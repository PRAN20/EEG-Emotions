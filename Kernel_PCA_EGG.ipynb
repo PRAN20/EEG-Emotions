{
  "nbformat": 4,
  "nbformat_minor": 0,
  "metadata": {
    "colab": {
      "name": "Kernel-PCA-EGG.ipynb",
      "provenance": [],
      "mount_file_id": "1zpX9Dr309cqJ-nBP3PLh0oF0B84D-_lX",
      "authorship_tag": "ABX9TyMMlxnrn9JNyXRCl+93zLZV",
      "include_colab_link": true
    },
    "kernelspec": {
      "name": "python3",
      "display_name": "Python 3"
    },
    "language_info": {
      "name": "python"
    }
  },
  "cells": [
    {
      "cell_type": "markdown",
      "metadata": {
        "id": "view-in-github",
        "colab_type": "text"
      },
      "source": [
        "<a href=\"https://colab.research.google.com/github/PRAN20/EEG-Emotions/blob/main/Kernel_PCA_EGG.ipynb\" target=\"_parent\"><img src=\"https://colab.research.google.com/assets/colab-badge.svg\" alt=\"Open In Colab\"/></a>"
      ]
    },
    {
      "cell_type": "markdown",
      "source": [
        "# **Importing Header Files**"
      ],
      "metadata": {
        "id": "LzPwVfrlfh2n"
      }
    },
    {
      "cell_type": "code",
      "execution_count": 17,
      "metadata": {
        "id": "QZGqwv26S6C_"
      },
      "outputs": [],
      "source": [
        "import pandas as pd\n",
        "import matplotlib.pyplot as plt\n",
        "import  numpy as np"
      ]
    },
    {
      "cell_type": "markdown",
      "source": [
        "# **Importing DataBase**"
      ],
      "metadata": {
        "id": "MhDjbuRmfoBr"
      }
    },
    {
      "cell_type": "code",
      "source": [
        "!unzip \"/content/drive/MyDrive/Split-Output-EEG.zip\" -d \"Input\""
      ],
      "metadata": {
        "colab": {
          "base_uri": "https://localhost:8080/"
        },
        "id": "By2GEbIQTQ8U",
        "outputId": "b9a66c73-73e0-4852-914f-841b4368374b"
      },
      "execution_count": 18,
      "outputs": [
        {
          "output_type": "stream",
          "name": "stdout",
          "text": [
            "Archive:  /content/drive/MyDrive/Split-Output-EEG.zip\n",
            " extracting: Input/content/Split-Output-EEG/X_test.csv  \n",
            " extracting: Input/content/Split-Output-EEG/Y_test.csv  \n",
            " extracting: Input/content/Split-Output-EEG/Y_train.csv  \n",
            " extracting: Input/content/Split-Output-EEG/X_train.csv  \n",
            " extracting: Input/content/Split-Output-EEG/Labels.png  \n"
          ]
        }
      ]
    },
    {
      "cell_type": "code",
      "source": [
        "x_train = pd.read_csv('/content/Input/content/Split-Output-EEG/X_train.csv')"
      ],
      "metadata": {
        "id": "XJX2Uw4FTnyG"
      },
      "execution_count": 29,
      "outputs": []
    },
    {
      "cell_type": "code",
      "source": [
        "y_train = pd.read_csv('/content/Input/content/Split-Output-EEG/Y_train.csv')"
      ],
      "metadata": {
        "id": "q3DtWyQ9Tnza"
      },
      "execution_count": 30,
      "outputs": []
    },
    {
      "cell_type": "code",
      "source": [
        "y_test = pd.read_csv('/content/Input/content/Split-Output-EEG/Y_test.csv')"
      ],
      "metadata": {
        "id": "CLTwpdbYUM_y"
      },
      "execution_count": 31,
      "outputs": []
    },
    {
      "cell_type": "code",
      "source": [
        "x_test = pd.read_csv('/content/Input/content/Split-Output-EEG/X_test.csv')"
      ],
      "metadata": {
        "id": "oIrEzZNgUNDB"
      },
      "execution_count": 32,
      "outputs": []
    },
    {
      "cell_type": "markdown",
      "source": [
        "# **Determining the shape of variables**"
      ],
      "metadata": {
        "id": "ehqbNyORUpmq"
      }
    },
    {
      "cell_type": "code",
      "source": [
        "x_train.shape"
      ],
      "metadata": {
        "colab": {
          "base_uri": "https://localhost:8080/"
        },
        "id": "C08u17N8U8vy",
        "outputId": "0b19eee2-0b40-4d8c-c056-921a8137c856"
      },
      "execution_count": 23,
      "outputs": [
        {
          "output_type": "execute_result",
          "data": {
            "text/plain": [
              "(1917, 2548)"
            ]
          },
          "metadata": {},
          "execution_count": 23
        }
      ]
    },
    {
      "cell_type": "code",
      "source": [
        "y_train.shape"
      ],
      "metadata": {
        "colab": {
          "base_uri": "https://localhost:8080/"
        },
        "id": "JfY_UR1AVEZh",
        "outputId": "58d35d7e-31c4-4dfc-d2b5-4c93a467e22e"
      },
      "execution_count": 24,
      "outputs": [
        {
          "output_type": "execute_result",
          "data": {
            "text/plain": [
              "(1917, 1)"
            ]
          },
          "metadata": {},
          "execution_count": 24
        }
      ]
    },
    {
      "cell_type": "code",
      "source": [
        "x_test.shape"
      ],
      "metadata": {
        "colab": {
          "base_uri": "https://localhost:8080/"
        },
        "id": "G7NC7ZBdU8xM",
        "outputId": "d31d8cfc-12a6-4b54-c1f0-7f1b46108ae0"
      },
      "execution_count": 25,
      "outputs": [
        {
          "output_type": "execute_result",
          "data": {
            "text/plain": [
              "(213, 2548)"
            ]
          },
          "metadata": {},
          "execution_count": 25
        }
      ]
    },
    {
      "cell_type": "code",
      "source": [
        "y_test.shape"
      ],
      "metadata": {
        "colab": {
          "base_uri": "https://localhost:8080/"
        },
        "id": "ralJx72eU93g",
        "outputId": "18bbefe8-ebee-4796-b925-81035f5cdf89"
      },
      "execution_count": 26,
      "outputs": [
        {
          "output_type": "execute_result",
          "data": {
            "text/plain": [
              "(213, 1)"
            ]
          },
          "metadata": {},
          "execution_count": 26
        }
      ]
    },
    {
      "cell_type": "markdown",
      "source": [
        "# **Feature Scaling**"
      ],
      "metadata": {
        "id": "kX4YIUNqf6ue"
      }
    },
    {
      "cell_type": "code",
      "source": [
        "from sklearn.decomposition import KernelPCA\n",
        "kpca = KernelPCA(n_components = 2, kernel = 'rbf')\n",
        "x_train = kpca.fit_transform(x_train)"
      ],
      "metadata": {
        "id": "GeEJ5cJQgM0B"
      },
      "execution_count": 33,
      "outputs": []
    },
    {
      "cell_type": "code",
      "source": [
        "x_test = kpca.transform(x_test)"
      ],
      "metadata": {
        "colab": {
          "base_uri": "https://localhost:8080/"
        },
        "id": "EENeAZvqgW73",
        "outputId": "26c4685f-bd8c-4b98-a53c-0482fcb4a242"
      },
      "execution_count": 34,
      "outputs": [
        {
          "output_type": "stream",
          "name": "stderr",
          "text": [
            "/usr/local/lib/python3.7/dist-packages/sklearn/base.py:493: FutureWarning: The feature names should match those that were passed during fit. Starting version 1.2, an error will be raised.\n",
            "Feature names unseen at fit time:\n",
            "- -1.000000000000000000e+03\n",
            "- -1.000000000000000000e+03.1\n",
            "- -1.010000000000000000e+02\n",
            "- -1.010000000000000009e+00\n",
            "- -1.019999999999999929e+01\n",
            "- ...\n",
            "Feature names seen at fit time, yet now missing:\n",
            "- -1.000000000000000000e+05\n",
            "- -1.020000000000000018e+00\n",
            "- -1.020000000000000018e+00.1\n",
            "- -1.020000000000000018e+00.2\n",
            "- -1.020000000000000018e+00.3\n",
            "- ...\n",
            "\n",
            "  warnings.warn(message, FutureWarning)\n"
          ]
        }
      ]
    }
  ]
}